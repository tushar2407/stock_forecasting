{
 "cells": [
  {
   "cell_type": "code",
   "execution_count": 4,
   "metadata": {},
   "outputs": [
    {
     "name": "stderr",
     "output_type": "stream",
     "text": [
      "Matplotlib is building the font cache; this may take a moment.\n"
     ]
    },
    {
     "data": {
      "text/html": [
       "<div>\n",
       "<style scoped>\n",
       "    .dataframe tbody tr th:only-of-type {\n",
       "        vertical-align: middle;\n",
       "    }\n",
       "\n",
       "    .dataframe tbody tr th {\n",
       "        vertical-align: top;\n",
       "    }\n",
       "\n",
       "    .dataframe thead th {\n",
       "        text-align: right;\n",
       "    }\n",
       "</style>\n",
       "<table border=\"1\" class=\"dataframe\">\n",
       "  <thead>\n",
       "    <tr style=\"text-align: right;\">\n",
       "      <th></th>\n",
       "      <th>Date</th>\n",
       "      <th>Open</th>\n",
       "      <th>High</th>\n",
       "      <th>Low</th>\n",
       "      <th>Close</th>\n",
       "      <th>Adj Close</th>\n",
       "      <th>Volume</th>\n",
       "    </tr>\n",
       "  </thead>\n",
       "  <tbody>\n",
       "    <tr>\n",
       "      <th>0</th>\n",
       "      <td>1997-05-15</td>\n",
       "      <td>0.121875</td>\n",
       "      <td>0.125000</td>\n",
       "      <td>0.096354</td>\n",
       "      <td>0.097917</td>\n",
       "      <td>0.097917</td>\n",
       "      <td>1443120000</td>\n",
       "    </tr>\n",
       "    <tr>\n",
       "      <th>1</th>\n",
       "      <td>1997-05-16</td>\n",
       "      <td>0.098438</td>\n",
       "      <td>0.098958</td>\n",
       "      <td>0.085417</td>\n",
       "      <td>0.086458</td>\n",
       "      <td>0.086458</td>\n",
       "      <td>294000000</td>\n",
       "    </tr>\n",
       "    <tr>\n",
       "      <th>2</th>\n",
       "      <td>1997-05-19</td>\n",
       "      <td>0.088021</td>\n",
       "      <td>0.088542</td>\n",
       "      <td>0.081250</td>\n",
       "      <td>0.085417</td>\n",
       "      <td>0.085417</td>\n",
       "      <td>122136000</td>\n",
       "    </tr>\n",
       "    <tr>\n",
       "      <th>3</th>\n",
       "      <td>1997-05-20</td>\n",
       "      <td>0.086458</td>\n",
       "      <td>0.087500</td>\n",
       "      <td>0.081771</td>\n",
       "      <td>0.081771</td>\n",
       "      <td>0.081771</td>\n",
       "      <td>109344000</td>\n",
       "    </tr>\n",
       "    <tr>\n",
       "      <th>4</th>\n",
       "      <td>1997-05-21</td>\n",
       "      <td>0.081771</td>\n",
       "      <td>0.082292</td>\n",
       "      <td>0.068750</td>\n",
       "      <td>0.071354</td>\n",
       "      <td>0.071354</td>\n",
       "      <td>377064000</td>\n",
       "    </tr>\n",
       "    <tr>\n",
       "      <th>...</th>\n",
       "      <td>...</td>\n",
       "      <td>...</td>\n",
       "      <td>...</td>\n",
       "      <td>...</td>\n",
       "      <td>...</td>\n",
       "      <td>...</td>\n",
       "      <td>...</td>\n",
       "    </tr>\n",
       "    <tr>\n",
       "      <th>6511</th>\n",
       "      <td>2023-03-30</td>\n",
       "      <td>101.550003</td>\n",
       "      <td>103.040001</td>\n",
       "      <td>101.010002</td>\n",
       "      <td>102.000000</td>\n",
       "      <td>102.000000</td>\n",
       "      <td>53633400</td>\n",
       "    </tr>\n",
       "    <tr>\n",
       "      <th>6512</th>\n",
       "      <td>2023-03-31</td>\n",
       "      <td>102.160004</td>\n",
       "      <td>103.489998</td>\n",
       "      <td>101.949997</td>\n",
       "      <td>103.290001</td>\n",
       "      <td>103.290001</td>\n",
       "      <td>56704300</td>\n",
       "    </tr>\n",
       "    <tr>\n",
       "      <th>6513</th>\n",
       "      <td>2023-04-03</td>\n",
       "      <td>102.300003</td>\n",
       "      <td>103.290001</td>\n",
       "      <td>101.430000</td>\n",
       "      <td>102.410004</td>\n",
       "      <td>102.410004</td>\n",
       "      <td>41135700</td>\n",
       "    </tr>\n",
       "    <tr>\n",
       "      <th>6514</th>\n",
       "      <td>2023-04-04</td>\n",
       "      <td>102.750000</td>\n",
       "      <td>104.199997</td>\n",
       "      <td>102.110001</td>\n",
       "      <td>103.949997</td>\n",
       "      <td>103.949997</td>\n",
       "      <td>48662500</td>\n",
       "    </tr>\n",
       "    <tr>\n",
       "      <th>6515</th>\n",
       "      <td>2023-04-05</td>\n",
       "      <td>103.910004</td>\n",
       "      <td>103.910004</td>\n",
       "      <td>100.750000</td>\n",
       "      <td>101.099998</td>\n",
       "      <td>101.099998</td>\n",
       "      <td>45103000</td>\n",
       "    </tr>\n",
       "  </tbody>\n",
       "</table>\n",
       "<p>6516 rows × 7 columns</p>\n",
       "</div>"
      ],
      "text/plain": [
       "            Date        Open        High         Low       Close   Adj Close  \\\n",
       "0     1997-05-15    0.121875    0.125000    0.096354    0.097917    0.097917   \n",
       "1     1997-05-16    0.098438    0.098958    0.085417    0.086458    0.086458   \n",
       "2     1997-05-19    0.088021    0.088542    0.081250    0.085417    0.085417   \n",
       "3     1997-05-20    0.086458    0.087500    0.081771    0.081771    0.081771   \n",
       "4     1997-05-21    0.081771    0.082292    0.068750    0.071354    0.071354   \n",
       "...          ...         ...         ...         ...         ...         ...   \n",
       "6511  2023-03-30  101.550003  103.040001  101.010002  102.000000  102.000000   \n",
       "6512  2023-03-31  102.160004  103.489998  101.949997  103.290001  103.290001   \n",
       "6513  2023-04-03  102.300003  103.290001  101.430000  102.410004  102.410004   \n",
       "6514  2023-04-04  102.750000  104.199997  102.110001  103.949997  103.949997   \n",
       "6515  2023-04-05  103.910004  103.910004  100.750000  101.099998  101.099998   \n",
       "\n",
       "          Volume  \n",
       "0     1443120000  \n",
       "1      294000000  \n",
       "2      122136000  \n",
       "3      109344000  \n",
       "4      377064000  \n",
       "...          ...  \n",
       "6511    53633400  \n",
       "6512    56704300  \n",
       "6513    41135700  \n",
       "6514    48662500  \n",
       "6515    45103000  \n",
       "\n",
       "[6516 rows x 7 columns]"
      ]
     },
     "execution_count": 4,
     "metadata": {},
     "output_type": "execute_result"
    }
   ],
   "source": [
    "import pandas as pd\n",
    "import numpy as np\n",
    "import matplotlib.pyplot as plt\n",
    "\n",
    "import torch\n",
    "import torch.nn as nn\n",
    "\n",
    "data = pd.read_csv('AMZN.csv')\n",
    "data"
   ]
  },
  {
   "cell_type": "code",
   "execution_count": 5,
   "metadata": {},
   "outputs": [
    {
     "data": {
      "text/html": [
       "<div>\n",
       "<style scoped>\n",
       "    .dataframe tbody tr th:only-of-type {\n",
       "        vertical-align: middle;\n",
       "    }\n",
       "\n",
       "    .dataframe tbody tr th {\n",
       "        vertical-align: top;\n",
       "    }\n",
       "\n",
       "    .dataframe thead th {\n",
       "        text-align: right;\n",
       "    }\n",
       "</style>\n",
       "<table border=\"1\" class=\"dataframe\">\n",
       "  <thead>\n",
       "    <tr style=\"text-align: right;\">\n",
       "      <th></th>\n",
       "      <th>Date</th>\n",
       "      <th>Close</th>\n",
       "    </tr>\n",
       "  </thead>\n",
       "  <tbody>\n",
       "    <tr>\n",
       "      <th>0</th>\n",
       "      <td>1997-05-15</td>\n",
       "      <td>0.097917</td>\n",
       "    </tr>\n",
       "    <tr>\n",
       "      <th>1</th>\n",
       "      <td>1997-05-16</td>\n",
       "      <td>0.086458</td>\n",
       "    </tr>\n",
       "    <tr>\n",
       "      <th>2</th>\n",
       "      <td>1997-05-19</td>\n",
       "      <td>0.085417</td>\n",
       "    </tr>\n",
       "    <tr>\n",
       "      <th>3</th>\n",
       "      <td>1997-05-20</td>\n",
       "      <td>0.081771</td>\n",
       "    </tr>\n",
       "    <tr>\n",
       "      <th>4</th>\n",
       "      <td>1997-05-21</td>\n",
       "      <td>0.071354</td>\n",
       "    </tr>\n",
       "    <tr>\n",
       "      <th>...</th>\n",
       "      <td>...</td>\n",
       "      <td>...</td>\n",
       "    </tr>\n",
       "    <tr>\n",
       "      <th>6511</th>\n",
       "      <td>2023-03-30</td>\n",
       "      <td>102.000000</td>\n",
       "    </tr>\n",
       "    <tr>\n",
       "      <th>6512</th>\n",
       "      <td>2023-03-31</td>\n",
       "      <td>103.290001</td>\n",
       "    </tr>\n",
       "    <tr>\n",
       "      <th>6513</th>\n",
       "      <td>2023-04-03</td>\n",
       "      <td>102.410004</td>\n",
       "    </tr>\n",
       "    <tr>\n",
       "      <th>6514</th>\n",
       "      <td>2023-04-04</td>\n",
       "      <td>103.949997</td>\n",
       "    </tr>\n",
       "    <tr>\n",
       "      <th>6515</th>\n",
       "      <td>2023-04-05</td>\n",
       "      <td>101.099998</td>\n",
       "    </tr>\n",
       "  </tbody>\n",
       "</table>\n",
       "<p>6516 rows × 2 columns</p>\n",
       "</div>"
      ],
      "text/plain": [
       "            Date       Close\n",
       "0     1997-05-15    0.097917\n",
       "1     1997-05-16    0.086458\n",
       "2     1997-05-19    0.085417\n",
       "3     1997-05-20    0.081771\n",
       "4     1997-05-21    0.071354\n",
       "...          ...         ...\n",
       "6511  2023-03-30  102.000000\n",
       "6512  2023-03-31  103.290001\n",
       "6513  2023-04-03  102.410004\n",
       "6514  2023-04-04  103.949997\n",
       "6515  2023-04-05  101.099998\n",
       "\n",
       "[6516 rows x 2 columns]"
      ]
     },
     "execution_count": 5,
     "metadata": {},
     "output_type": "execute_result"
    }
   ],
   "source": [
    "data = data[['Date', 'Close']]\n",
    "data"
   ]
  },
  {
   "cell_type": "code",
   "execution_count": 10,
   "metadata": {},
   "outputs": [
    {
     "data": {
      "text/plain": [
       "'mps'"
      ]
     },
     "execution_count": 10,
     "metadata": {},
     "output_type": "execute_result"
    }
   ],
   "source": [
    "device = 'mps' if torch.backends.mps.is_available() else 'cpu'\n",
    "device\n",
    "# Alternative for non-MAC users\n",
    "# device = 'cuda:0' if torch.cuda.is_available() else 'cpu'"
   ]
  },
  {
   "cell_type": "code",
   "execution_count": 12,
   "metadata": {},
   "outputs": [
    {
     "data": {
      "text/plain": [
       "[<matplotlib.lines.Line2D at 0x302583bf0>]"
      ]
     },
     "execution_count": 12,
     "metadata": {},
     "output_type": "execute_result"
    },
    {
     "data": {
      "image/png": "[encoded data removed]",
      "text/plain": [
       "<Figure size 640x480 with 1 Axes>"
      ]
     },
     "metadata": {},
     "output_type": "display_data"
    }
   ],
   "source": [
    "data.loc[:,'Date'] = pd.to_datetime(data['Date'])\n",
    "\n",
    "plt.plot(data['Date'], data['Close'])"
   ]
  },
  {
   "cell_type": "code",
   "execution_count": 22,
   "metadata": {},
   "outputs": [
    {
     "data": {
      "text/html": [
       "<div>\n",
       "<style scoped>\n",
       "    .dataframe tbody tr th:only-of-type {\n",
       "        vertical-align: middle;\n",
       "    }\n",
       "\n",
       "    .dataframe tbody tr th {\n",
       "        vertical-align: top;\n",
       "    }\n",
       "\n",
       "    .dataframe thead th {\n",
       "        text-align: right;\n",
       "    }\n",
       "</style>\n",
       "<table border=\"1\" class=\"dataframe\">\n",
       "  <thead>\n",
       "    <tr style=\"text-align: right;\">\n",
       "      <th></th>\n",
       "      <th>Close</th>\n",
       "      <th>Close(t-1)</th>\n",
       "      <th>Close(t-2)</th>\n",
       "      <th>Close(t-3)</th>\n",
       "      <th>Close(t-4)</th>\n",
       "      <th>Close(t-5)</th>\n",
       "      <th>Close(t-6)</th>\n",
       "      <th>Close(t-7)</th>\n",
       "    </tr>\n",
       "    <tr>\n",
       "      <th>Date</th>\n",
       "      <th></th>\n",
       "      <th></th>\n",
       "      <th></th>\n",
       "      <th></th>\n",
       "      <th></th>\n",
       "      <th></th>\n",
       "      <th></th>\n",
       "      <th></th>\n",
       "    </tr>\n",
       "  </thead>\n",
       "  <tbody>\n",
       "    <tr>\n",
       "      <th>1997-05-27</th>\n",
       "      <td>0.079167</td>\n",
       "      <td>0.075000</td>\n",
       "      <td>0.069792</td>\n",
       "      <td>0.071354</td>\n",
       "      <td>0.081771</td>\n",
       "      <td>0.085417</td>\n",
       "      <td>0.086458</td>\n",
       "      <td>0.097917</td>\n",
       "    </tr>\n",
       "    <tr>\n",
       "      <th>1997-05-28</th>\n",
       "      <td>0.076563</td>\n",
       "      <td>0.079167</td>\n",
       "      <td>0.075000</td>\n",
       "      <td>0.069792</td>\n",
       "      <td>0.071354</td>\n",
       "      <td>0.081771</td>\n",
       "      <td>0.085417</td>\n",
       "      <td>0.086458</td>\n",
       "    </tr>\n",
       "    <tr>\n",
       "      <th>1997-05-29</th>\n",
       "      <td>0.075260</td>\n",
       "      <td>0.076563</td>\n",
       "      <td>0.079167</td>\n",
       "      <td>0.075000</td>\n",
       "      <td>0.069792</td>\n",
       "      <td>0.071354</td>\n",
       "      <td>0.081771</td>\n",
       "      <td>0.085417</td>\n",
       "    </tr>\n",
       "    <tr>\n",
       "      <th>1997-05-30</th>\n",
       "      <td>0.075000</td>\n",
       "      <td>0.075260</td>\n",
       "      <td>0.076563</td>\n",
       "      <td>0.079167</td>\n",
       "      <td>0.075000</td>\n",
       "      <td>0.069792</td>\n",
       "      <td>0.071354</td>\n",
       "      <td>0.081771</td>\n",
       "    </tr>\n",
       "    <tr>\n",
       "      <th>1997-06-02</th>\n",
       "      <td>0.075521</td>\n",
       "      <td>0.075000</td>\n",
       "      <td>0.075260</td>\n",
       "      <td>0.076563</td>\n",
       "      <td>0.079167</td>\n",
       "      <td>0.075000</td>\n",
       "      <td>0.069792</td>\n",
       "      <td>0.071354</td>\n",
       "    </tr>\n",
       "    <tr>\n",
       "      <th>...</th>\n",
       "      <td>...</td>\n",
       "      <td>...</td>\n",
       "      <td>...</td>\n",
       "      <td>...</td>\n",
       "      <td>...</td>\n",
       "      <td>...</td>\n",
       "      <td>...</td>\n",
       "      <td>...</td>\n",
       "    </tr>\n",
       "    <tr>\n",
       "      <th>2023-03-30</th>\n",
       "      <td>102.000000</td>\n",
       "      <td>100.250000</td>\n",
       "      <td>97.239998</td>\n",
       "      <td>98.040001</td>\n",
       "      <td>98.129997</td>\n",
       "      <td>98.709999</td>\n",
       "      <td>98.699997</td>\n",
       "      <td>100.610001</td>\n",
       "    </tr>\n",
       "    <tr>\n",
       "      <th>2023-03-31</th>\n",
       "      <td>103.290001</td>\n",
       "      <td>102.000000</td>\n",
       "      <td>100.250000</td>\n",
       "      <td>97.239998</td>\n",
       "      <td>98.040001</td>\n",
       "      <td>98.129997</td>\n",
       "      <td>98.709999</td>\n",
       "      <td>98.699997</td>\n",
       "    </tr>\n",
       "    <tr>\n",
       "      <th>2023-04-03</th>\n",
       "      <td>102.410004</td>\n",
       "      <td>103.290001</td>\n",
       "      <td>102.000000</td>\n",
       "      <td>100.250000</td>\n",
       "      <td>97.239998</td>\n",
       "      <td>98.040001</td>\n",
       "      <td>98.129997</td>\n",
       "      <td>98.709999</td>\n",
       "    </tr>\n",
       "    <tr>\n",
       "      <th>2023-04-04</th>\n",
       "      <td>103.949997</td>\n",
       "      <td>102.410004</td>\n",
       "      <td>103.290001</td>\n",
       "      <td>102.000000</td>\n",
       "      <td>100.250000</td>\n",
       "      <td>97.239998</td>\n",
       "      <td>98.040001</td>\n",
       "      <td>98.129997</td>\n",
       "    </tr>\n",
       "    <tr>\n",
       "      <th>2023-04-05</th>\n",
       "      <td>101.099998</td>\n",
       "      <td>103.949997</td>\n",
       "      <td>102.410004</td>\n",
       "      <td>103.290001</td>\n",
       "      <td>102.000000</td>\n",
       "      <td>100.250000</td>\n",
       "      <td>97.239998</td>\n",
       "      <td>98.040001</td>\n",
       "    </tr>\n",
       "  </tbody>\n",
       "</table>\n",
       "<p>6509 rows × 8 columns</p>\n",
       "</div>"
      ],
      "text/plain": [
       "                 Close  Close(t-1)  Close(t-2)  Close(t-3)  Close(t-4)  \\\n",
       "Date                                                                     \n",
       "1997-05-27    0.079167    0.075000    0.069792    0.071354    0.081771   \n",
       "1997-05-28    0.076563    0.079167    0.075000    0.069792    0.071354   \n",
       "1997-05-29    0.075260    0.076563    0.079167    0.075000    0.069792   \n",
       "1997-05-30    0.075000    0.075260    0.076563    0.079167    0.075000   \n",
       "1997-06-02    0.075521    0.075000    0.075260    0.076563    0.079167   \n",
       "...                ...         ...         ...         ...         ...   \n",
       "2023-03-30  102.000000  100.250000   97.239998   98.040001   98.129997   \n",
       "2023-03-31  103.290001  102.000000  100.250000   97.239998   98.040001   \n",
       "2023-04-03  102.410004  103.290001  102.000000  100.250000   97.239998   \n",
       "2023-04-04  103.949997  102.410004  103.290001  102.000000  100.250000   \n",
       "2023-04-05  101.099998  103.949997  102.410004  103.290001  102.000000   \n",
       "\n",
       "            Close(t-5)  Close(t-6)  Close(t-7)  \n",
       "Date                                            \n",
       "1997-05-27    0.085417    0.086458    0.097917  \n",
       "1997-05-28    0.081771    0.085417    0.086458  \n",
       "1997-05-29    0.071354    0.081771    0.085417  \n",
       "1997-05-30    0.069792    0.071354    0.081771  \n",
       "1997-06-02    0.075000    0.069792    0.071354  \n",
       "...                ...         ...         ...  \n",
       "2023-03-30   98.709999   98.699997  100.610001  \n",
       "2023-03-31   98.129997   98.709999   98.699997  \n",
       "2023-04-03   98.040001   98.129997   98.709999  \n",
       "2023-04-04   97.239998   98.040001   98.129997  \n",
       "2023-04-05  100.250000   97.239998   98.040001  \n",
       "\n",
       "[6509 rows x 8 columns]"
      ]
     },
     "execution_count": 22,
     "metadata": {},
     "output_type": "execute_result"
    }
   ],
   "source": [
    "def prepare_data_for_lstm(data, look_back):\n",
    "    temp = data.copy()\n",
    "    temp.set_index('Date', inplace=True)\n",
    "    for i in range(1, look_back+1):\n",
    "        temp[f'Close(t-{i})'] = temp['Close'].shift(i)\n",
    "    temp.dropna(inplace=True)\n",
    "    return temp\n",
    "look_back = 7\n",
    "shifted_data = prepare_data_for_lstm(data, look_back)\n",
    "shifted_data"
   ]
  },
  {
   "cell_type": "code",
   "execution_count": 23,
   "metadata": {},
   "outputs": [
    {
     "data": {
      "text/plain": [
       "array([[7.91670000e-02, 7.50000000e-02, 6.97920000e-02, ...,\n",
       "        8.54170000e-02, 8.64580000e-02, 9.79170000e-02],\n",
       "       [7.65630000e-02, 7.91670000e-02, 7.50000000e-02, ...,\n",
       "        8.17710000e-02, 8.54170000e-02, 8.64580000e-02],\n",
       "       [7.52600000e-02, 7.65630000e-02, 7.91670000e-02, ...,\n",
       "        7.13540000e-02, 8.17710000e-02, 8.54170000e-02],\n",
       "       ...,\n",
       "       [1.02410004e+02, 1.03290001e+02, 1.02000000e+02, ...,\n",
       "        9.80400010e+01, 9.81299970e+01, 9.87099990e+01],\n",
       "       [1.03949997e+02, 1.02410004e+02, 1.03290001e+02, ...,\n",
       "        9.72399980e+01, 9.80400010e+01, 9.81299970e+01],\n",
       "       [1.01099998e+02, 1.03949997e+02, 1.02410004e+02, ...,\n",
       "        1.00250000e+02, 9.72399980e+01, 9.80400010e+01]])"
      ]
     },
     "execution_count": 23,
     "metadata": {},
     "output_type": "execute_result"
    }
   ],
   "source": [
    "shifted_data = shifted_data.to_numpy()\n",
    "shifted_data"
   ]
  },
  {
   "cell_type": "code",
   "execution_count": 25,
   "metadata": {},
   "outputs": [
    {
     "data": {
      "text/plain": [
       "array([[4.46864078e-05, 2.23432039e-05, 0.00000000e+00, ...,\n",
       "        8.37798446e-05, 8.93615930e-05, 1.50803720e-04],\n",
       "       [3.07239161e-05, 4.46864078e-05, 2.79248276e-05, ...,\n",
       "        6.42303205e-05, 8.37798446e-05, 8.93615930e-05],\n",
       "       [2.37373083e-05, 3.07239161e-05, 5.02679068e-05, ...,\n",
       "        8.37530351e-06, 6.42303205e-05, 8.37798446e-05],\n",
       "       ...,\n",
       "       [5.48736493e-01, 5.53454984e-01, 5.46540607e-01, ...,\n",
       "        5.25307449e-01, 5.25789999e-01, 5.28899918e-01],\n",
       "       [5.56993843e-01, 5.48736493e-01, 5.53457476e-01, ...,\n",
       "        5.21017905e-01, 5.25307449e-01, 5.25789999e-01],\n",
       "       [5.41712319e-01, 5.56993843e-01, 5.48739012e-01, ...,\n",
       "        5.37157265e-01, 5.21017905e-01, 5.25307449e-01]])"
      ]
     },
     "execution_count": 25,
     "metadata": {},
     "output_type": "execute_result"
    }
   ],
   "source": [
    "from sklearn.preprocessing import MinMaxScaler\n",
    "scaler = MinMaxScaler()\n",
    "shifted_data = scaler.fit_transform(shifted_data)\n",
    "shifted_data"
   ]
  },
  {
   "cell_type": "code",
   "execution_count": 33,
   "metadata": {},
   "outputs": [
    {
     "data": {
      "text/plain": [
       "((6509, 7), (6509,))"
      ]
     },
     "execution_count": 33,
     "metadata": {},
     "output_type": "execute_result"
    }
   ],
   "source": [
    "X = shifted_data[:, 1:,]\n",
    "y = shifted_data[:, 0]\n",
    "\n",
    "X.shape, y.shape"
   ]
  },
  {
   "cell_type": "code",
   "execution_count": 34,
   "metadata": {},
   "outputs": [
    {
     "data": {
      "text/plain": [
       "array([[1.50803720e-04, 8.93615930e-05, 8.37798446e-05, ...,\n",
       "        8.37530351e-06, 0.00000000e+00, 2.23432039e-05],\n",
       "       [8.93615930e-05, 8.37798446e-05, 6.42303205e-05, ...,\n",
       "        0.00000000e+00, 2.79248276e-05, 4.46864078e-05],\n",
       "       [8.37798446e-05, 6.42303205e-05, 8.37530351e-06, ...,\n",
       "        2.79248276e-05, 5.02679068e-05, 3.07239161e-05],\n",
       "       ...,\n",
       "       [5.28899918e-01, 5.25789999e-01, 5.25307449e-01, ...,\n",
       "        5.37157265e-01, 5.46540607e-01, 5.53454984e-01],\n",
       "       [5.25789999e-01, 5.25307449e-01, 5.21017905e-01, ...,\n",
       "        5.46540607e-01, 5.53457476e-01, 5.48736493e-01],\n",
       "       [5.25307449e-01, 5.21017905e-01, 5.37157265e-01, ...,\n",
       "        5.53457476e-01, 5.48739012e-01, 5.56993843e-01]])"
      ]
     },
     "execution_count": 34,
     "metadata": {},
     "output_type": "execute_result"
    }
   ],
   "source": [
    "# Need t-7 to t-1 and not the other way round\n",
    "X = np.flip(X, axis=1).copy()\n",
    "X"
   ]
  },
  {
   "cell_type": "code",
   "execution_count": 35,
   "metadata": {},
   "outputs": [
    {
     "data": {
      "text/plain": [
       "6183"
      ]
     },
     "execution_count": 35,
     "metadata": {},
     "output_type": "execute_result"
    }
   ],
   "source": [
    "split_index = int(len(X)*0.95)\n",
    "split_index"
   ]
  },
  {
   "cell_type": "code",
   "execution_count": 36,
   "metadata": {},
   "outputs": [
    {
     "data": {
      "text/plain": [
       "((6183, 7), (326, 7), (6183,), (326,))"
      ]
     },
     "execution_count": 36,
     "metadata": {},
     "output_type": "execute_result"
    }
   ],
   "source": [
    "X_train = X[:split_index]\n",
    "X_test = X[split_index:]\n",
    "y_train = y[:split_index]\n",
    "y_test = y[split_index:]\n",
    "\n",
    "X_train.shape, X_test.shape, y_train.shape, y_test.shape"
   ]
  },
  {
   "cell_type": "code",
   "execution_count": 37,
   "metadata": {},
   "outputs": [
    {
     "data": {
      "text/plain": [
       "((6183, 7, 1), (326, 7, 1), (6183, 1), (326, 1))"
      ]
     },
     "execution_count": 37,
     "metadata": {},
     "output_type": "execute_result"
    }
   ],
   "source": [
    "X_train = X_train.reshape(-1, look_back, 1)\n",
    "X_test = X_test.reshape(-1, look_back, 1)\n",
    "y_train = y_train.reshape(-1, 1)\n",
    "y_test = y_test.reshape(-1, 1)\n",
    "\n",
    "X_train.shape, X_test.shape, y_train.shape, y_test.shape"
   ]
  },
  {
   "cell_type": "code",
   "execution_count": 38,
   "metadata": {},
   "outputs": [
    {
     "data": {
      "text/plain": [
       "(torch.Size([6183, 7, 1]),\n",
       " torch.Size([326, 7, 1]),\n",
       " torch.Size([6183, 1]),\n",
       " torch.Size([326, 1]))"
      ]
     },
     "execution_count": 38,
     "metadata": {},
     "output_type": "execute_result"
    }
   ],
   "source": [
    "X_train = torch.tensor(X_train).float()\n",
    "X_test = torch.tensor(X_test, dtype=torch.float32)\n",
    "y_train = torch.tensor(y_train, dtype=torch.float32)\n",
    "y_test = torch.tensor(y_test, dtype=torch.float32)\n",
    "\n",
    "X_train.shape, X_test.shape, y_train.shape, y_test.shape"
   ]
  },
  {
   "cell_type": "code",
   "execution_count": 39,
   "metadata": {},
   "outputs": [],
   "source": [
    "from torch.utils.data import Dataset\n",
    "\n",
    "class StockDataset(Dataset):\n",
    "    def __init__(self, X, y):\n",
    "        self.X = X\n",
    "        self.y = y\n",
    "    \n",
    "    def __len__(self):\n",
    "        return len(self.X)\n",
    "    \n",
    "    def __getitem__(self, idx):\n",
    "        return self.X[idx], self.y[idx]\n",
    "\n",
    "train_dataset = StockDataset(X_train, y_train)\n",
    "test_dataset = StockDataset(X_test, y_test)"
   ]
  },
  {
   "cell_type": "code",
   "execution_count": 40,
   "metadata": {},
   "outputs": [],
   "source": [
    "from torch.utils.data import DataLoader\n",
    "batch_size = 16\n",
    "\n",
    "train_loader = DataLoader(train_dataset, batch_size=batch_size, shuffle=True)\n",
    "test_loader = DataLoader(test_dataset, batch_size=batch_size, shuffle=False)"
   ]
  },
  {
   "cell_type": "code",
   "execution_count": 41,
   "metadata": {},
   "outputs": [
    {
     "name": "stdout",
     "output_type": "stream",
     "text": [
      "torch.Size([16, 7, 1]) torch.Size([16, 1])\n"
     ]
    }
   ],
   "source": [
    "for _, batch in enumerate(train_loader):\n",
    "    x_batch, y_batch = batch[0].to(device), batch[1].to(device)\n",
    "    print(batch[0].shape, batch[1].shape)\n",
    "    break"
   ]
  },
  {
   "cell_type": "code",
   "execution_count": 44,
   "metadata": {},
   "outputs": [
    {
     "data": {
      "text/plain": [
       "LSTM(\n",
       "  (lstm): LSTM(1, 4, batch_first=True)\n",
       "  (fc): Linear(in_features=4, out_features=1, bias=True)\n",
       ")"
      ]
     },
     "execution_count": 44,
     "metadata": {},
     "output_type": "execute_result"
    }
   ],
   "source": [
    "class LSTM(nn.Module):\n",
    "    def __init__(self, input_size, hidden_size, num_layers):\n",
    "        super().__init__()\n",
    "        self.hidden_size = hidden_size\n",
    "        self.num_layers = num_layers\n",
    "        self.lstm = nn.LSTM(\n",
    "            input_size, \n",
    "            hidden_size, \n",
    "            num_layers, \n",
    "            batch_first=True\n",
    "        )\n",
    "        self.fc = nn.Linear(hidden_size, 1)\n",
    "\n",
    "    def forward(self, x):\n",
    "        batch_size = x.size(0)\n",
    "        h0 = torch.zeros(self.num_layers, batch_size, self.hidden_size).to(device)\n",
    "        c0 = torch.zeros(self.num_layers, batch_size, self.hidden_size).to(device)\n",
    "        out, (h_n, c_n) = self.lstm(x, (h0, c0))\n",
    "        out = self.fc(out[:, -1, :])\n",
    "        return out\n",
    "    \n",
    "model = LSTM(1, 4, 1).to(device)\n",
    "model"
   ]
  },
  {
   "cell_type": "code",
   "execution_count": 45,
   "metadata": {},
   "outputs": [
    {
     "name": "stdout",
     "output_type": "stream",
     "text": [
      "Epoch: 0, Loss: 0.0001106366835301742\n",
      "Epoch: 1, Loss: 3.541749174473807e-05\n",
      "Epoch: 2, Loss: 4.576851279125549e-05\n",
      "Epoch: 3, Loss: 0.00015166097728069872\n",
      "Epoch: 4, Loss: 6.845681491540745e-05\n",
      "Epoch: 5, Loss: 0.00023106750450097024\n",
      "Epoch: 6, Loss: 8.527331374352798e-05\n",
      "Epoch: 7, Loss: 1.645736483624205e-05\n",
      "Epoch: 8, Loss: 6.707363354507834e-05\n",
      "Epoch: 9, Loss: 1.0536957233853173e-05\n",
      "Loss: 0.00014187084161676466\n",
      "Loss: 0.0012358094099909067\n",
      "Loss: 0.001016237773001194\n",
      "Loss: 0.00127799017354846\n",
      "Loss: 0.0006547829252667725\n",
      "Loss: 0.002217855304479599\n",
      "Loss: 0.001297863433137536\n",
      "Loss: 0.0016675220103934407\n",
      "Loss: 0.0004999226657673717\n",
      "Loss: 0.001023485092446208\n",
      "Loss: 0.0006121929618529975\n",
      "Loss: 0.0007931238505989313\n",
      "Loss: 0.0007291806396096945\n",
      "Loss: 0.0019919699989259243\n",
      "Loss: 0.00048725708620622754\n",
      "Loss: 0.00031866063363850117\n",
      "Loss: 0.0003268419823143631\n",
      "Loss: 0.00046395836398005486\n",
      "Loss: 0.0002406760468147695\n",
      "Loss: 0.00015259279462043196\n",
      "Loss: 0.00010522369848331437\n",
      "Average Loss: 0.0008216675088901649\n"
     ]
    }
   ],
   "source": [
    "lr = 0.001\n",
    "num_epochs = 10\n",
    "loss_fn = nn.MSELoss()\n",
    "optimizer = torch.optim.Adam(model.parameters(), lr=lr)\n",
    "\n",
    "# Training\n",
    "for epoch in range(num_epochs):\n",
    "    model.train()\n",
    "    for _, batch in enumerate(train_loader):\n",
    "        x_batch, y_batch = batch[0].to(device), batch[1].to(device)\n",
    "        optimizer.zero_grad()\n",
    "        y_pred = model(x_batch)\n",
    "        loss = loss_fn(y_pred, y_batch)\n",
    "        loss.backward()\n",
    "        optimizer.step()\n",
    "    print(f'Epoch: {epoch}, Loss: {loss.item()}')\n",
    "\n",
    "# Evaluation\n",
    "model.eval()\n",
    "running_loss = 0.0\n",
    "for _, batch in enumerate(test_loader):\n",
    "    x_batch, y_batch = batch[0].to(device), batch[1].to(device)\n",
    "    with torch.no_grad():\n",
    "        y_pred = model(x_batch)\n",
    "        loss = loss_fn(y_pred, y_batch)\n",
    "        running_loss += loss.item()\n",
    "    print(f'Loss: {loss.item()}')\n",
    "print(f'Average Loss: {running_loss/len(test_loader)}')"
   ]
  },
  {
   "cell_type": "code",
   "execution_count": 46,
   "metadata": {},
   "outputs": [
    {
     "data": {
      "image/png": "[encoded data removed]",
      "text/plain": [
       "<Figure size 640x480 with 1 Axes>"
      ]
     },
     "metadata": {},
     "output_type": "display_data"
    }
   ],
   "source": [
    "with torch.no_grad():\n",
    "    predicted = model(X_train.to(device)).cpu().numpy()\n",
    "\n",
    "plt.plot(y_train, label='Actual close')\n",
    "plt.plot(predicted, label='Predicted close')\n",
    "plt.xlabel('Day')\n",
    "plt.ylabel('Close')\n",
    "plt.legend()\n",
    "plt.show()"
   ]
  },
  {
   "cell_type": "code",
   "execution_count": 47,
   "metadata": {},
   "outputs": [
    {
     "data": {
      "text/plain": [
       "array([  0.61710201,   0.61672406,   0.61642392, ..., 170.16834139,\n",
       "       169.12882786, 169.20193941])"
      ]
     },
     "execution_count": 47,
     "metadata": {},
     "output_type": "execute_result"
    }
   ],
   "source": [
    "# To get back the actual values\n",
    "\n",
    "train_predictions = predicted.flatten()\n",
    "\n",
    "dummies = np.zeros((X_train.shape[0], look_back+1))\n",
    "dummies[:, 0] = train_predictions\n",
    "dummies = scaler.inverse_transform(dummies)\n",
    "\n",
    "train_predictions = dummies[:, 0].copy()\n",
    "train_predictions"
   ]
  },
  {
   "cell_type": "code",
   "execution_count": 48,
   "metadata": {},
   "outputs": [
    {
     "data": {
      "text/plain": [
       "array([7.91669998e-02, 7.65630002e-02, 7.52599999e-02, ...,\n",
       "       1.69091511e+02, 1.73315006e+02, 1.68870998e+02])"
      ]
     },
     "execution_count": 48,
     "metadata": {},
     "output_type": "execute_result"
    }
   ],
   "source": [
    "dummies = np.zeros((X_train.shape[0], look_back+1))\n",
    "dummies[:, 0] = y_train.flatten()\n",
    "dummies = scaler.inverse_transform(dummies)\n",
    "\n",
    "new_y_train = dummies[:, 0].copy()\n",
    "new_y_train"
   ]
  },
  {
   "cell_type": "code",
   "execution_count": 49,
   "metadata": {},
   "outputs": [
    {
     "data": {
      "image/png": "[encoded data removed]",
      "text/plain": [
       "<Figure size 640x480 with 1 Axes>"
      ]
     },
     "metadata": {},
     "output_type": "display_data"
    }
   ],
   "source": [
    "plt.plot(new_y_train, label='Actual close')\n",
    "plt.plot(train_predictions, label='Predicted close')\n",
    "plt.xlabel('Day')\n",
    "plt.ylabel('Close')\n",
    "plt.legend()\n",
    "plt.show()"
   ]
  },
  {
   "cell_type": "code",
   "execution_count": 50,
   "metadata": {},
   "outputs": [
    {
     "data": {
      "text/plain": [
       "array([168.58731105, 168.27372174, 167.47948819, 167.4928388 ,\n",
       "       167.8220242 , 168.17034065, 168.15097615, 168.27676759,\n",
       "       168.06008972, 167.69018552, 166.93240213, 167.07705784,\n",
       "       166.78262183, 165.7942208 , 164.62614789, 163.52963025,\n",
       "       162.47938955, 162.57770163, 162.92641827, 162.43702553,\n",
       "       162.07384665, 161.06872679, 159.5488358 , 157.19639356,\n",
       "       153.11629768, 150.01040739, 146.79413277, 144.1295241 ,\n",
       "       142.50052715, 142.64368217, 144.62665374, 147.05743217,\n",
       "       148.92050392, 147.41936603, 149.71678286, 152.29724155,\n",
       "       155.23086338, 157.51809772, 158.58626893, 157.72411511,\n",
       "       156.88797331, 156.42833876, 156.60635433, 156.17121999,\n",
       "       155.27916346, 153.92141404, 151.4923364 , 150.85121801,\n",
       "       151.37679413, 152.13707867, 152.30112112, 152.48417234,\n",
       "       151.61354794, 150.11517801, 146.83280619, 143.53270396,\n",
       "       141.7485131 , 142.61973778, 143.7967148 , 144.07147506,\n",
       "       145.36256035, 147.85172131, 150.9573337 , 154.38797401,\n",
       "       157.11632324, 159.73906812, 161.25192253, 162.08301756,\n",
       "       162.72522533, 164.05829669, 165.29388968, 165.5621914 ,\n",
       "       164.78571049, 164.02610404, 164.45773676, 164.13318684,\n",
       "       162.58109208, 160.89142267, 158.7911747 , 156.32191182,\n",
       "       154.27393244, 153.95705273, 153.36235579, 153.17938238,\n",
       "       154.36766463, 154.67974212, 153.41104495, 151.0733095 ,\n",
       "       149.34757898, 146.59741968, 143.9853575 , 143.57933661,\n",
       "       139.08414899, 134.74030905, 131.20089628, 129.11368766,\n",
       "       125.68551516, 122.43462455, 118.52335111, 115.39197126,\n",
       "       112.22292957, 110.25070741, 110.66444297, 111.18059252,\n",
       "       112.88465747, 112.438896  , 111.59552864, 110.74334609,\n",
       "       109.9944557 , 108.60931585, 108.11948958, 109.04984157,\n",
       "       111.23814132, 114.57325973, 117.86764821, 121.363552  ,\n",
       "       123.22314436, 124.73161896, 125.21546469, 124.82475087,\n",
       "       123.01375874, 119.62166957, 115.06638752, 110.85376376,\n",
       "       108.98741273, 107.26738484, 106.85769559, 107.58595423,\n",
       "       108.57726771, 110.30319832, 112.78660106, 114.09668402,\n",
       "       113.37929708, 112.55855127, 111.07471027, 110.57957043,\n",
       "       111.43811147, 112.78839078, 114.59340237, 115.9002505 ,\n",
       "       115.78597549, 114.62277149, 113.61946357, 112.89164959,\n",
       "       113.18260622, 113.79255464, 115.55824807, 118.37041379,\n",
       "       121.27451087, 122.98084354, 123.61699296, 122.14616908,\n",
       "       121.88744957, 122.2028397 , 125.83212733, 129.68112756,\n",
       "       132.54513946, 135.72696483, 138.7907579 , 140.56206503,\n",
       "       141.19651366, 140.93923926, 141.63813989, 141.86862414,\n",
       "       142.65655478, 143.3311553 , 144.22337856, 144.29680137,\n",
       "       144.1660632 , 143.00040251, 140.64412516, 138.58408465,\n",
       "       137.10106625, 137.0095462 , 135.81212639, 134.47489756,\n",
       "       133.12265068, 131.56879956, 130.57023828, 129.89609353,\n",
       "       129.19830453, 129.53321479, 130.12631099, 131.53631789,\n",
       "       133.6042287 , 133.0327536 , 132.33902202, 131.05881953,\n",
       "       129.21417853, 127.92725071, 126.49713452, 124.56247416,\n",
       "       122.66922181, 120.30935391, 118.73701647, 117.54656655,\n",
       "       117.7001375 , 117.44388579, 116.77629963, 116.83903972,\n",
       "       118.32366998, 119.81937201, 120.89706985, 120.19691308,\n",
       "       118.93036134, 117.28963676, 116.04014846, 115.11891179,\n",
       "       113.19426716, 113.23430788, 114.37293386, 115.30079581,\n",
       "       116.07964448, 117.63278416, 119.11422405, 120.41490267,\n",
       "       120.09783398, 118.27266864, 114.50704025, 110.74397971,\n",
       "       106.3411014 , 101.68389449,  97.37153576,  94.61260575,\n",
       "        92.83251678,  91.71390005,  90.14284653,  91.54459406,\n",
       "        94.38408907,  96.51644076,  98.19034734,  98.8420595 ,\n",
       "        98.40828135,  97.47765145,  96.09027723,  95.13032268,\n",
       "        94.76473157,  94.49730804,  94.52224178,  94.2418567 ,\n",
       "        94.99096942,  95.53657701,  95.61021102,  94.75981819,\n",
       "        93.14019224,  91.66674493,  90.98099482,  90.3489473 ,\n",
       "        90.36755589,  91.07966818,  91.6204013 ,  91.22788665,\n",
       "        90.49919448,  89.0305605 ,  87.75176978,  87.15409924,\n",
       "        86.15226979,  85.74732162,  85.02768919,  84.11135478,\n",
       "        83.93091588,  83.8903916 ,  84.41368333,  84.83371625,\n",
       "        84.64924215,  85.10613654,  85.86574854,  87.17776017,\n",
       "        89.69921382,  92.03700486,  94.60185634,  96.06319806,\n",
       "        96.70192644,  96.42945613,  96.79535849,  97.2484678 ,\n",
       "        97.3961916 ,  97.68428023,  98.45741515,  99.92395928,\n",
       "       100.81623813, 102.03749116, 103.54762209, 106.73552805,\n",
       "       107.20796851, 106.64780975, 105.76018861, 104.36661152,\n",
       "       102.66470312, 101.12276861, 100.50569467, 100.3970556 ,\n",
       "       100.8442733 , 100.6167682 , 100.06962657,  98.84352685,\n",
       "        97.974103  ,  97.35269373,  96.40278826,  95.70536609,\n",
       "        95.36035116,  94.66986553,  94.06189579,  94.28266444,\n",
       "        94.39157031,  94.46345907,  94.59296334,  94.27984092,\n",
       "        93.54124417,  93.24195592,  93.70825465,  94.65263535,\n",
       "        96.5410299 ,  98.00378338,  98.7593324 ,  99.82364627,\n",
       "       100.13799148, 100.18772557,  99.9735155 ,  99.70701462,\n",
       "        99.29399049,  99.68789468, 100.63235318, 101.90320691,\n",
       "       102.77816664, 103.74698085])"
      ]
     },
     "execution_count": 50,
     "metadata": {},
     "output_type": "execute_result"
    }
   ],
   "source": [
    "test_predictions = model(X_test.to(device)).detach().cpu().numpy().flatten()\n",
    "dummies = np.zeros((X_test.shape[0], look_back+1))\n",
    "dummies[:, 0] = test_predictions\n",
    "dummies = scaler.inverse_transform(dummies)\n",
    "\n",
    "test_predictions = dummies[:, 0].copy()\n",
    "test_predictions"
   ]
  },
  {
   "cell_type": "code",
   "execution_count": 51,
   "metadata": {},
   "outputs": [
    {
     "data": {
      "text/plain": [
       "array([170.01750505, 167.07899207, 170.41701182, 171.03699821,\n",
       "       171.06850166, 169.66949984, 170.66099119, 169.20100565,\n",
       "       168.64450413, 166.71699151, 170.40449492, 167.52200783,\n",
       "       164.35699022, 163.25400293, 162.55400179, 161.48599732,\n",
       "       165.36199892, 165.2070051 , 161.21400501, 162.13799851,\n",
       "       158.91749972, 156.29900124, 151.66749509, 142.64300408,\n",
       "       144.54400445, 139.9859878 , 138.87249566, 139.63749349,\n",
       "       143.97799855, 149.57350556, 151.19349835, 150.61250774,\n",
       "       138.84550541, 157.63949825, 157.93550165, 161.41349717,\n",
       "       161.18949369, 159.003495  , 153.29350176, 155.16701166,\n",
       "       156.51049894, 158.10048897, 154.6524962 , 152.60150432,\n",
       "       150.19749381, 144.82699073, 151.35799656, 153.78849709,\n",
       "       153.56300403, 151.14199678, 152.05250627, 147.89849848,\n",
       "       145.6410112 , 137.45300661, 136.01449765, 139.27900567,\n",
       "       146.81751023, 145.52450183, 141.8529947 , 147.36649717,\n",
       "       153.10400311, 157.23900213, 161.25049965, 161.49149987,\n",
       "       164.88900265, 163.4080074 , 163.64950785, 164.77349373,\n",
       "       168.9904973 , 169.31500275, 166.30099935, 162.99749555,\n",
       "       163.55999984, 168.34649981, 164.05499516, 158.75599178,\n",
       "       157.78449856, 154.4604964 , 151.12199865, 150.78751081,\n",
       "       155.54099553, 151.70650199, 152.7850002 , 158.11549591,\n",
       "       153.99800498, 148.29600432, 144.35000372, 146.07400011,\n",
       "       139.39100185, 138.1670031 , 144.59649537, 124.28149992,\n",
       "       124.50000086, 124.2534981 , 125.92849407, 116.4069957 ,\n",
       "       114.77249621, 108.78899885, 108.85899785, 105.37199817,\n",
       "       106.93049589, 113.05500283, 110.81049933, 115.36850486,\n",
       "       107.11250219, 107.31899757, 107.591001  , 107.5569964 ,\n",
       "       104.09999948, 106.77500184, 111.07750045, 115.14650231,\n",
       "       120.20950779, 121.68400003, 125.51100121, 122.34999657,\n",
       "       124.79000149, 122.99999683, 121.18000054, 116.1499992 ,\n",
       "       109.64999658, 103.67000084, 102.30999482, 107.66999305,\n",
       "       103.66000734, 106.22000101, 108.68000406, 108.94999544,\n",
       "       112.43999651, 116.45999796, 113.22000127, 107.40000166,\n",
       "       108.9199927 , 106.20999639, 109.55999945, 113.49999728,\n",
       "       114.33000291, 116.33000457, 115.54000631, 111.74999999,\n",
       "       109.21999795, 110.39999859, 110.62999373, 113.54999815,\n",
       "       113.76000628, 118.20999524, 122.7700017 , 124.62999424,\n",
       "       122.41999557, 121.14000429, 114.81000242, 120.97000354,\n",
       "       122.27999757, 134.94999481, 135.38999806, 134.16000766,\n",
       "       139.52000588, 142.57000369, 140.80000828, 139.40999951,\n",
       "       137.83000298, 142.69000357, 140.64000103, 143.55000084,\n",
       "       143.17999658, 144.78000236, 142.1000088 , 142.30000119,\n",
       "       138.22999886, 133.21999565, 133.61999153, 133.80000802,\n",
       "       137.28000447, 130.7499991 , 129.78998896, 128.72999931,\n",
       "       126.7699939 , 127.82000117, 127.51000241, 126.11000014,\n",
       "       129.48000132, 129.82000283, 133.27000764, 136.44999883,\n",
       "       126.81999478, 128.55000505, 126.28000089, 123.52999721,\n",
       "       124.6600081 , 122.19000044, 118.54000324, 117.31000172,\n",
       "       113.7800044 , 115.15000393, 114.41000654, 118.01000286,\n",
       "       114.7999978 , 112.99999964, 115.8799967 , 121.0899923 ,\n",
       "       120.94999429, 120.30000515, 114.55999805, 113.66999803,\n",
       "       112.21000138, 112.89999789, 112.52999364, 106.90000402,\n",
       "       113.78999791, 116.35999621, 115.0700003 , 115.24999456,\n",
       "       119.31999689, 119.81999452, 120.59999928, 115.66000619,\n",
       "       110.96000173, 103.41000296, 102.43999932,  96.79000046,\n",
       "        92.12000431,  89.30000163,  90.98000548,  90.5299976 ,\n",
       "        89.98000464,  86.13999745,  96.62999322, 100.79000378,\n",
       "        98.48999687,  98.94000475,  97.12000846,  94.84999318,\n",
       "        94.13999854,  92.46000026,  93.19999765,  94.12999392,\n",
       "        93.41000577,  93.94999966,  92.41999845,  96.53999609,\n",
       "        95.50000456,  94.12999392,  91.01000267,  88.24999993,\n",
       "        88.45999693,  90.34999778,  89.08999351,  90.55000128,\n",
       "        92.48999745,  91.5799993 ,  88.44999787,  87.86000311,\n",
       "        84.92000055,  85.19000306,  86.76999959,  83.79000078,\n",
       "        85.24999744,  83.03999877,  81.82000187,  84.1799976 ,\n",
       "        83.99999779,  85.81999963,  85.13999662,  83.12000239,\n",
       "        86.08000307,  87.35999991,  89.87000383,  95.08999294,\n",
       "        95.26999831,  98.12000374,  96.05000307,  95.45999719,\n",
       "        93.67999716,  97.25000185,  97.51999323,  96.31999446,\n",
       "        97.18000284,  99.22000076, 102.23999582, 100.55000403,\n",
       "       103.12999583, 105.15000674, 112.91000251, 103.38999372,\n",
       "       102.18000144, 102.11000244, 100.05000639,  98.2399925 ,\n",
       "        97.61000148,  99.54000414,  99.70000027, 101.16000804,\n",
       "        98.15000648,  97.20000097,  94.5800018 ,  95.79000519,\n",
       "        95.81999682,  93.5000029 ,  93.76000078,  94.23000678,\n",
       "        92.16999963,  92.12999782,  94.90000517,  93.74999616,\n",
       "        93.55000377,  93.91999691,  92.24999769,  90.7300011 ,\n",
       "        92.42999751,  94.87999593,  96.19999458, 100.04000177,\n",
       "        98.94999825,  97.71000323, 100.60999841,  98.69999388,\n",
       "        98.7099985 ,  98.12999724,  98.04000011,  97.23999722,\n",
       "       100.24999878, 101.99999606, 103.29000308, 102.41000769,\n",
       "       103.94999685, 101.10000254])"
      ]
     },
     "execution_count": 51,
     "metadata": {},
     "output_type": "execute_result"
    }
   ],
   "source": [
    "dummies = np.zeros((X_test.shape[0], look_back+1))\n",
    "dummies[:, 0] = y_test.flatten()\n",
    "dummies = scaler.inverse_transform(dummies)\n",
    "\n",
    "new_y_test = dummies[:, 0].copy()\n",
    "new_y_test"
   ]
  },
  {
   "cell_type": "code",
   "execution_count": 52,
   "metadata": {},
   "outputs": [
    {
     "data": {
      "image/png": "[encoded data removed]",
      "text/plain": [
       "<Figure size 640x480 with 1 Axes>"
      ]
     },
     "metadata": {},
     "output_type": "display_data"
    }
   ],
   "source": [
    "plt.plot(new_y_test, label='Actual close')\n",
    "plt.plot(test_predictions, label='Predicted close')\n",
    "plt.xlabel('Day')\n",
    "plt.ylabel('Close')\n",
    "plt.legend()\n",
    "plt.show()"
   ]
  },
  {
   "cell_type": "code",
   "execution_count": null,
   "metadata": {},
   "outputs": [],
   "source": []
  }
 ],
 "metadata": {
  "kernelspec": {
   "display_name": "ds",
   "language": "python",
   "name": "python3"
  },
  "language_info": {
   "codemirror_mode": {
    "name": "ipython",
    "version": 3
   },
   "file_extension": ".py",
   "mimetype": "text/x-python",
   "name": "python",
   "nbconvert_exporter": "python",
   "pygments_lexer": "ipython3",
   "version": "3.12.2"
  }
 },
 "nbformat": 4,
 "nbformat_minor": 2
}
